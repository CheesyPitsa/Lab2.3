{
  "nbformat": 4,
  "nbformat_minor": 0,
  "metadata": {
    "colab": {
      "provenance": [],
      "gpuType": "T4",
      "include_colab_link": true
    },
    "kernelspec": {
      "name": "python3",
      "display_name": "Python 3"
    },
    "language_info": {
      "name": "python"
    },
    "accelerator": "GPU",
    "gpuClass": "standard"
  },
  "cells": [
    {
      "cell_type": "markdown",
      "metadata": {
        "id": "view-in-github",
        "colab_type": "text"
      },
      "source": [
        "<a href=\"https://colab.research.google.com/github/CheesyPitsa/Lab2.3/blob/main/Lab3.ipynb\" target=\"_parent\"><img src=\"https://colab.research.google.com/assets/colab-badge.svg\" alt=\"Open In Colab\"/></a>"
      ]
    },
    {
      "cell_type": "code",
      "source": [
        "import numpy as np\n",
        "import matplotlib.pyplot as plt\n",
        "import tensorflow as tf\n",
        "from tensorflow import keras\n",
        "%matplotlib inline\n",
        "from tensorflow.keras.datasets import cifar10\n",
        "from tensorflow.keras.models import Sequential\n",
        "from tensorflow.keras.layers import Dense, Dropout, Flatten\n",
        "from tensorflow.keras.layers import Input, Conv2D, Dense, Flatten, Dropout\n",
        "from tensorflow.keras import utils\n",
        "\n",
        "\n",
        "(x_train, y_train), (x_test, y_test) = cifar10.load_data()\n",
        "\n",
        "class_names = ('airplane', 'automobile', 'bird', 'cat', 'deer', 'dog', 'frog', 'horse', 'ship')\n",
        "\n",
        "\n",
        "x_train = x_train.astype('float32')\n",
        "x_test = x_test.astype('float32')\n",
        "x_train = x_train / 255.0\n",
        "x_test = x_test / 255.0\n",
        "\n",
        "plt.figure()\n",
        "plt.imshow(x_train[100])\n",
        "plt.colorbar()\n",
        "plt.grid(False)"
      ],
      "metadata": {
        "colab": {
          "base_uri": "https://localhost:8080/",
          "height": 430
        },
        "id": "_WWqFakwi-PT",
        "outputId": "31def317-ed49-4a03-9e3e-d0b38eb2f603"
      },
      "execution_count": null,
      "outputs": [
        {
          "output_type": "display_data",
          "data": {
            "text/plain": [
              "<Figure size 640x480 with 2 Axes>"
            ],
            "image/png": "[encoded data removed]"
          },
          "metadata": {}
        }
      ]
    },
    {
      "cell_type": "code",
      "source": [
        "y_train_cat = keras.utils.to_categorical(y_train, 10)\n",
        "y_test_cat = keras.utils.to_categorical(y_test, 10)"
      ],
      "metadata": {
        "id": "GeP9ksCUi_oo"
      },
      "execution_count": null,
      "outputs": []
    },
    {
      "cell_type": "code",
      "source": [
        "model = keras.Sequential()\n",
        "model.add(keras.layers.Conv2D(32, (3, 3), padding='same', activation='relu', input_shape=(32, 32, 3)))\n",
        "model.add(keras.layers.Conv2D(64, (3, 3), padding='same', activation='relu', input_shape=(32, 32, 3)))\n",
        "model.add(keras.layers.MaxPooling2D((2, 2)))\n",
        "model.add(keras.layers.Conv2D(64, (3, 3), padding='same', activation='relu', input_shape=(32, 32, 3)))\n",
        "model.add(keras.layers.Conv2D(128, (3, 3), padding='same', activation='relu', input_shape=(32, 32, 3)))\n",
        "model.add(keras.layers.MaxPooling2D((2, 2)))\n",
        "model.add(keras.layers.Conv2D(128, (3, 3), padding='same', activation='relu', input_shape=(32, 32, 3)))\n",
        "model.add(keras.layers.MaxPooling2D((2, 2)))\n",
        "\n",
        "model.add(keras.layers.Flatten())\n",
        "model.add(keras.layers.Dense(128, activation='relu'))\n",
        "model.add(keras.layers.Dense(10, activation='softmax'))\n",
        "\n",
        "model.summary()"
      ],
      "metadata": {
        "colab": {
          "base_uri": "https://localhost:8080/"
        },
        "id": "SDxO-vC1lzSB",
        "outputId": "82f8ecaa-6477-45d5-85ee-ede1a4bd9c8b"
      },
      "execution_count": null,
      "outputs": [
        {
          "output_type": "stream",
          "name": "stdout",
          "text": [
            "Model: \"sequential_1\"\n",
            "_________________________________________________________________\n",
            " Layer (type)                Output Shape              Param #   \n",
            "=================================================================\n",
            " conv2d_5 (Conv2D)           (None, 32, 32, 32)        896       \n",
            "                                                                 \n",
            " conv2d_6 (Conv2D)           (None, 32, 32, 64)        18496     \n",
            "                                                                 \n",
            " max_pooling2d_3 (MaxPooling  (None, 16, 16, 64)       0         \n",
            " 2D)                                                             \n",
            "                                                                 \n",
            " conv2d_7 (Conv2D)           (None, 16, 16, 64)        36928     \n",
            "                                                                 \n",
            " conv2d_8 (Conv2D)           (None, 16, 16, 128)       73856     \n",
            "                                                                 \n",
            " max_pooling2d_4 (MaxPooling  (None, 8, 8, 128)        0         \n",
            " 2D)                                                             \n",
            "                                                                 \n",
            " conv2d_9 (Conv2D)           (None, 8, 8, 128)         147584    \n",
            "                                                                 \n",
            " max_pooling2d_5 (MaxPooling  (None, 4, 4, 128)        0         \n",
            " 2D)                                                             \n",
            "                                                                 \n",
            " flatten_1 (Flatten)         (None, 2048)              0         \n",
            "                                                                 \n",
            " dense_2 (Dense)             (None, 128)               262272    \n",
            "                                                                 \n",
            " dense_3 (Dense)             (None, 10)                1290      \n",
            "                                                                 \n",
            "=================================================================\n",
            "Total params: 541,322\n",
            "Trainable params: 541,322\n",
            "Non-trainable params: 0\n",
            "_________________________________________________________________\n"
          ]
        }
      ]
    },
    {
      "cell_type": "code",
      "source": [
        "model.compile(\n",
        "              optimizer='Nadam',\n",
        "              loss='mean_squared_error',\n",
        "              metrics=['accuracy'])"
      ],
      "metadata": {
        "id": "a0nCvhPCi_aD"
      },
      "execution_count": null,
      "outputs": []
    },
    {
      "cell_type": "code",
      "source": [
        "model.fit(x_train, y_train_cat, batch_size=64, epochs=10, validation_split=0.2)\n",
        "test_loss, test_acc = model.evaluate(x_test, y_test_cat)\n",
        "print('Test loss:', test_loss)\n",
        "print('Test accuracy:', test_acc)\n"
      ],
      "metadata": {
        "colab": {
          "base_uri": "https://localhost:8080/"
        },
        "id": "HX5L-cFyi_UW",
        "outputId": "db614332-b6db-41ed-92bc-1ec7622d626f"
      },
      "execution_count": null,
      "outputs": [
        {
          "output_type": "stream",
          "name": "stdout",
          "text": [
            "Epoch 1/10\n",
            "625/625 [==============================] - 484s 770ms/step - loss: 0.0644 - accuracy: 0.4805 - val_loss: 0.0498 - val_accuracy: 0.6273\n",
            "Epoch 2/10\n",
            "625/625 [==============================] - 480s 769ms/step - loss: 0.0440 - accuracy: 0.6741 - val_loss: 0.0422 - val_accuracy: 0.6881\n",
            "Epoch 3/10\n",
            "625/625 [==============================] - 476s 761ms/step - loss: 0.0354 - accuracy: 0.7462 - val_loss: 0.0371 - val_accuracy: 0.7298\n",
            "Epoch 4/10\n",
            "625/625 [==============================] - 476s 763ms/step - loss: 0.0301 - accuracy: 0.7875 - val_loss: 0.0326 - val_accuracy: 0.7681\n",
            "Epoch 5/10\n",
            "625/625 [==============================] - 477s 763ms/step - loss: 0.0255 - accuracy: 0.8241 - val_loss: 0.0355 - val_accuracy: 0.7449\n",
            "Epoch 6/10\n",
            "625/625 [==============================] - 481s 770ms/step - loss: 0.0219 - accuracy: 0.8490 - val_loss: 0.0325 - val_accuracy: 0.7731\n",
            "Epoch 7/10\n",
            "625/625 [==============================] - 464s 742ms/step - loss: 0.0190 - accuracy: 0.8711 - val_loss: 0.0335 - val_accuracy: 0.7686\n",
            "Epoch 8/10\n",
            "625/625 [==============================] - 484s 775ms/step - loss: 0.0163 - accuracy: 0.8922 - val_loss: 0.0345 - val_accuracy: 0.7649\n",
            "Epoch 9/10\n",
            "625/625 [==============================] - 483s 773ms/step - loss: 0.0141 - accuracy: 0.9071 - val_loss: 0.0324 - val_accuracy: 0.7836\n",
            "Epoch 10/10\n",
            "625/625 [==============================] - 467s 747ms/step - loss: 0.0127 - accuracy: 0.9178 - val_loss: 0.0338 - val_accuracy: 0.7771\n",
            "313/313 [==============================] - 28s 90ms/step - loss: 0.0346 - accuracy: 0.7745\n",
            "Test loss: 0.03461335226893425\n",
            "Test accuracy: 0.7745000123977661\n"
          ]
        }
      ]
    },
    {
      "cell_type": "code",
      "source": [
        "predictions = model.predict(x_train)"
      ],
      "metadata": {
        "colab": {
          "base_uri": "https://localhost:8080/"
        },
        "id": "C98m696ci_Iz",
        "outputId": "816cad35-f37d-4886-ea30-613f685b040b"
      },
      "execution_count": null,
      "outputs": [
        {
          "output_type": "stream",
          "name": "stdout",
          "text": [
            "1563/1563 [==============================] - 145s 93ms/step\n"
          ]
        }
      ]
    },
    {
      "cell_type": "code",
      "source": [
        "predictions[80]\n",
        "\n",
        "np.argmax(predictions[80])\n",
        "y_test[80]\n",
        "\n",
        "plt.figure()\n",
        "plt.imshow(x_test[80])\n",
        "plt.colorbar()\n",
        "plt.grid(False)\n",
        "\n",
        "plt.xlabel(y_test[80])"
      ],
      "metadata": {
        "colab": {
          "base_uri": "https://localhost:8080/",
          "height": 486
        },
        "id": "70CvKBTHjP7D",
        "outputId": "c4bf6afd-86d3-4028-8033-d79b749fb402"
      },
      "execution_count": null,
      "outputs": [
        {
          "output_type": "execute_result",
          "data": {
            "text/plain": [
              "Text(0.5, 0, '[8]')"
            ]
          },
          "metadata": {},
          "execution_count": 14
        },
        {
          "output_type": "display_data",
          "data": {
            "text/plain": [
              "<Figure size 640x480 with 2 Axes>"
            ],
            "image/png": "[encoded data removed]"
          },
          "metadata": {}
        }
      ]
    }
  ]
}